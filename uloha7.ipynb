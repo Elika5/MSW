{
 "cells": [
  {
   "cell_type": "code",
   "execution_count": 30,
   "metadata": {},
   "outputs": [],
   "source": [
    "import math\n",
    "import random"
   ]
  },
  {
   "attachments": {},
   "cell_type": "markdown",
   "metadata": {},
   "source": [
    "Příklad: Jaká je pravděpodobnost, že náhodně vybraný bod uvnitř kruhu se středem v počátku a poloměrem 3 bude mít vzdálenost od středu menší než 2."
   ]
  },
  {
   "cell_type": "code",
   "execution_count": 31,
   "metadata": {},
   "outputs": [
    {
     "name": "stdout",
     "output_type": "stream",
     "text": [
      "pravděpodobnost při 785675 pokusech je 0.443976752422472.\n"
     ]
    }
   ],
   "source": [
    "def pravdepodobnost(n):\n",
    "    bodu = 0\n",
    "    body_spravne = 0\n",
    "    for i in range(n):\n",
    "        x = random.uniform(-3,3)\n",
    "        y = random.uniform(-3,3)\n",
    "        vzdalenost = math.sqrt(x*x+y*y)\n",
    "        if vzdalenost <= 3:\n",
    "            bodu += 1\n",
    "            if vzdalenost < 2:\n",
    "                body_spravne += 1\n",
    "    pravde = body_spravne/bodu\n",
    "    return bodu,pravde\n",
    "\n",
    "print(f\"pravděpodobnost při {pravdepodobnost(1000000)[0]} pokusech je {pravdepodobnost(1000000)[1]}.\") "
   ]
  }
 ],
 "metadata": {
  "kernelspec": {
   "display_name": "Python 3",
   "language": "python",
   "name": "python3"
  },
  "language_info": {
   "codemirror_mode": {
    "name": "ipython",
    "version": 3
   },
   "file_extension": ".py",
   "mimetype": "text/x-python",
   "name": "python",
   "nbconvert_exporter": "python",
   "pygments_lexer": "ipython3",
   "version": "3.11.3"
  },
  "orig_nbformat": 4
 },
 "nbformat": 4,
 "nbformat_minor": 2
}
