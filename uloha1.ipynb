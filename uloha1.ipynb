{
 "cells": [
  {
   "cell_type": "code",
   "execution_count": 57,
   "metadata": {},
   "outputs": [],
   "source": [
    "import numpy as np\n",
    "import sympy\n",
    "import time\n",
    "import math\n",
    "from scipy import integrate\n",
    "import timeit"
   ]
  },
  {
   "cell_type": "code",
   "execution_count": 58,
   "metadata": {},
   "outputs": [
    {
     "name": "stdout",
     "output_type": "stream",
     "text": [
      "V klasickém pythonu trvala derivace 0.008699949830770493 milisekund.\n",
      "V knihovně sympy trvala derivace 1.18789984844625 milisekund.\n"
     ]
    }
   ],
   "source": [
    "#derivace v bodě\n",
    "\n",
    "def der_cla(fce,bod):\n",
    "    zacatek = time.perf_counter()\n",
    "    h = 0.001\n",
    "    derivace = (fce(bod+h)-fce(bod-h))/(2*h)\n",
    "    konec = time.perf_counter()\n",
    "    cas = konec-zacatek\n",
    "    return derivace, 1000*cas\n",
    "\n",
    "def der_s(fce,bod):\n",
    "    zacatek = time.perf_counter()\n",
    "    derivace = sympy.diff(fce,x)\n",
    "    vysledek = derivace.evalf(subs={x: bod})\n",
    "    konec = time.perf_counter()\n",
    "    cas = konec-zacatek\n",
    "    return vysledek, 1000*cas\n",
    "\n",
    "x = sympy.symbols(\"x\")\n",
    "\n",
    "print(f\"V klasickém pythonu trvala derivace {der_cla(lambda x: 5*x**4*math.sin(x),3)[1]} milisekund.\")\n",
    "print(f\"V knihovně sympy trvala derivace {der_s(5*x**4*sympy.sin(x),3)[1]} milisekund.\")"
   ]
  },
  {
   "cell_type": "code",
   "execution_count": 59,
   "metadata": {},
   "outputs": [
    {
     "name": "stdout",
     "output_type": "stream",
     "text": [
      "V klasickém pythonu trval výpočet skalárního součinu 0.009999843314290047 milisekund.\n",
      "V knihovně numpy trval výpočet skalárního součinu 0.044599873945117 milisekund.\n"
     ]
    }
   ],
   "source": [
    "#skalární součin\n",
    "\n",
    "def ska_cla(v1,v2):\n",
    "    zacatek = time.perf_counter()\n",
    "    celkem = 0\n",
    "    for i in range(len(v1)):\n",
    "        mezi = v1[i]*v2[i]\n",
    "        celkem += mezi\n",
    "    konec = time.perf_counter()\n",
    "    cas = konec-zacatek\n",
    "    return celkem, 1000*cas\n",
    "            \n",
    "def ska_num(v1,v2):\n",
    "    zacatek = time.perf_counter()\n",
    "    vysledek = np.dot(v1,v2)\n",
    "    konec = time.perf_counter()\n",
    "    cas = konec-zacatek\n",
    "    return vysledek, 1000*cas\n",
    "\n",
    "v1 = [-1, 5, 8, 4, -6]\n",
    "v2 = [9, 7, -2, 1, 12]\n",
    "\n",
    "print(f\"V klasickém pythonu trval výpočet skalárního součinu {ska_cla(v1,v2)[1]} milisekund.\")\n",
    "print(f\"V knihovně numpy trval výpočet skalárního součinu {ska_num(v1,v2)[1]} milisekund.\")\n"
   ]
  },
  {
   "cell_type": "code",
   "execution_count": 60,
   "metadata": {},
   "outputs": [
    {
     "name": "stdout",
     "output_type": "stream",
     "text": [
      "V klasickém pythonu trval výpočet faktorialu 0.005800044164061546 milisekund.\n",
      "V knihovně math trval výpočet faktorialu 0.001800013706088066 milisekund.\n",
      "V knihovně sympy trval výpočet faktorialu 0.00609993003308773 milisekund.\n"
     ]
    }
   ],
   "source": [
    "#faktoriál\n",
    "\n",
    "def fakt_cla(x):\n",
    "    zacatek = time.perf_counter()\n",
    "    celkem = 1\n",
    "    for i in range(1,x+1):\n",
    "        celkem *= i\n",
    "    konec = time.perf_counter()\n",
    "    cas = konec-zacatek\n",
    "    return celkem, 1000*cas\n",
    "\n",
    "def fakt_mat(x):\n",
    "    zacatek = time.perf_counter()\n",
    "    vysledek = math.factorial(x)\n",
    "    konec = time.perf_counter()\n",
    "    cas = konec-zacatek\n",
    "    return vysledek, 1000*cas\n",
    "\n",
    "def fakt_s(x):\n",
    "    zacatek = time.perf_counter()\n",
    "    vysledek = sympy.factorial(x)\n",
    "    konec = time.perf_counter()\n",
    "    cas = konec-zacatek\n",
    "    return vysledek, 1000*cas\n",
    "\n",
    "faktorial=5\n",
    "print(f\"V klasickém pythonu trval výpočet faktorialu {fakt_cla(faktorial)[1]} milisekund.\")\n",
    "print(f\"V knihovně math trval výpočet faktorialu {fakt_mat(faktorial)[1]} milisekund.\")\n",
    "print(f\"V knihovně sympy trval výpočet faktorialu {fakt_s(faktorial)[1]} milisekund.\")"
   ]
  },
  {
   "cell_type": "code",
   "execution_count": 61,
   "metadata": {},
   "outputs": [
    {
     "name": "stdout",
     "output_type": "stream",
     "text": [
      "V klasickém pythonu trval výpočet určitého integrálu 0.04910002462565899 milisekund.\n",
      "V knihovně numpy trval výpočet určitého integrálu 0.11770008131861687 milisekund.\n",
      "V knihovně scipy trval výpočet určitého integrálu 0.2809001598507166 milisekund.\n"
     ]
    }
   ],
   "source": [
    "#určitý integrál\n",
    "\n",
    "def inter_clas(f,a,b):\n",
    "    zacatek = time.perf_counter()\n",
    "    dx = 0.1\n",
    "    x = a\n",
    "    vysledek = 0\n",
    "    while x < b:\n",
    "        vysledek += dx * (f(x)+f(x+dx))/2\n",
    "        x += dx\n",
    "    konec = time.perf_counter()\n",
    "    cas = konec-zacatek\n",
    "    return vysledek, 1000*cas\n",
    "\n",
    "def inter_num(f,a,b):\n",
    "    zacatek = time.perf_counter()\n",
    "    dx = 0.1\n",
    "    x = np.arange(a, b+dx, dx)\n",
    "    y = f(x)\n",
    "    vysledek = np.trapz(y,dx=dx)\n",
    "    konec = time.perf_counter()\n",
    "    cas = konec-zacatek\n",
    "    return vysledek, 1000*cas\n",
    "\n",
    "def inter_sci(f,a,b):\n",
    "    zacatek = time.perf_counter()\n",
    "    dx = 0.1\n",
    "    x = np.arange(a, b+dx, dx)\n",
    "    y = f(x)\n",
    "    vysledek = integrate.simpson(y=y, x=x)\n",
    "    konec = time.perf_counter()\n",
    "    cas = konec-zacatek\n",
    "    return vysledek, 1000*cas\n",
    "\n",
    "funkce = (lambda x: -3*x**2+5*x+5)\n",
    "\n",
    "print(f\"V klasickém pythonu trval výpočet určitého integrálu {inter_clas(funkce,0,2)[1]} milisekund.\")\n",
    "print(f\"V knihovně numpy trval výpočet určitého integrálu {inter_num(funkce,0,2)[1]} milisekund.\")\n",
    "print(f\"V knihovně scipy trval výpočet určitého integrálu {inter_sci(funkce,0,2)[1]} milisekund.\")"
   ]
  },
  {
   "cell_type": "code",
   "execution_count": 62,
   "metadata": {},
   "outputs": [
    {
     "name": "stdout",
     "output_type": "stream",
     "text": [
      "V klasickém pythonu trvalo násobení matic 0.0350000336766243 milisekund.\n",
      "V klasickém pythonu s jinou funkcí trvalo násobení matic 0.024900073185563087 milisekund.\n",
      "V knihovně numpy trvalo násobení matic 0.04300009459257126 milisekund.\n"
     ]
    }
   ],
   "source": [
    "#násobení matic\n",
    "\n",
    "def nasm_clas(A,B):\n",
    "    zacatek = time.perf_counter()\n",
    "    C = []\n",
    "    for i in range(len(A)):\n",
    "        celkem=0\n",
    "        for j in range(len(B)):\n",
    "            celkem+=A[i,j]*B[j,0]\n",
    "        C.append(celkem)\n",
    "    vysledek = np.array(C).reshape(3,1)\n",
    "    konec = time.perf_counter()\n",
    "    cas = konec-zacatek\n",
    "    return vysledek, 1000*cas\n",
    "\n",
    "def nasm_clas2(A,B):\n",
    "    zacatek = time.perf_counter()\n",
    "    vysledek = A @ B\n",
    "    konec = time.perf_counter()\n",
    "    cas = konec-zacatek\n",
    "    return vysledek, 1000*cas\n",
    "\n",
    "def nasm_num(A,B):\n",
    "    zacatek = time.perf_counter()\n",
    "    vysledek = np.matmul(A,B)\n",
    "    konec = time.perf_counter()\n",
    "    cas = konec-zacatek\n",
    "    return vysledek, 1000*cas\n",
    "\n",
    "A = np.array([[2,0,6],[1,5,4],[2,4,0]])\n",
    "B = np.array([[-1],[5],[2]])\n",
    "\n",
    "print(f\"V klasickém pythonu trvalo násobení matic {nasm_clas(A,B)[1]} milisekund.\")\n",
    "print(f\"V klasickém pythonu s jinou funkcí trvalo násobení matic {nasm_clas2(A,B)[1]} milisekund.\")\n",
    "print(f\"V knihovně numpy trvalo násobení matic {nasm_num(A,B)[1]} milisekund.\")"
   ]
  },
  {
   "cell_type": "code",
   "execution_count": 63,
   "metadata": {},
   "outputs": [
    {
     "name": "stdout",
     "output_type": "stream",
     "text": [
      "derivace\n",
      "classic: (-324.742386879457, 0.016700010746717453)\n",
      "sympy:\t (-324.742156770852, 1.3859998434782028)\n",
      "skalární součin\n",
      "classic: (-58, 0.03700004890561104)\n",
      "numpy:\t (-58, 0.15380000695586205)\n",
      "faktoriál\n",
      "classic: (120, 0.009800074622035027)\n",
      "math:\t (120, 0.003300141543149948)\n",
      "sympy:\t (120, 0.00809994526207447)\n",
      "integrál\n",
      "classic: (11.989999999999997, 0.07560010999441147)\n",
      "numpy:\t (11.989999999999998, 0.16570021398365498)\n",
      "scipy:\t (12.0, 0.4827000666409731)\n",
      "násobení matic\n",
      "classic:\n",
      " [[10]\n",
      " [32]\n",
      " [18]] \t 0.02550007775425911\n",
      "classic:\n",
      " (array([[10],\n",
      "       [32],\n",
      "       [18]]), 0.018200138583779335)\n",
      "numpy:\n",
      " (array([[10],\n",
      "       [32],\n",
      "       [18]]), 0.016399892047047615)\n"
     ]
    }
   ],
   "source": [
    "x = sympy.symbols(\"x\")\n",
    "#derivace\n",
    "print(\"derivace\")\n",
    "print(\"classic:\",der_cla(lambda x: 5*x**4*math.sin(x),3))\n",
    "print(\"sympy:\\t\",der_s(5*x**4*sympy.sin(x),3))\n",
    "#skalarní součin\n",
    "print(\"skalární součin\")\n",
    "print(\"classic:\",ska_cla(v1,v2))\n",
    "print(\"numpy:\\t\",ska_num(v1,v2))\n",
    "#faktoriál\n",
    "print(\"faktoriál\")\n",
    "print(\"classic:\",fakt_cla(faktorial))\n",
    "print(\"math:\\t\",fakt_mat(faktorial))\n",
    "print(\"sympy:\\t\",fakt_s(faktorial))\n",
    "#integrál\n",
    "print(\"integrál\")\n",
    "print(\"classic:\",inter_clas(funkce,0,2))\n",
    "print(\"numpy:\\t\",inter_num(funkce,0,2))\n",
    "print(\"scipy:\\t\",inter_sci(funkce,0,2))\n",
    "#násobení matic\n",
    "print(\"násobení matic\")\n",
    "print(\"classic:\\n\",nasm_clas(A,B)[0],\"\\t\",nasm_clas(A,B)[1])\n",
    "print(\"classic:\\n\",nasm_clas2(A,B))\n",
    "print(\"numpy:\\n\",nasm_num(A,B))"
   ]
  }
 ],
 "metadata": {
  "kernelspec": {
   "display_name": "Python 3",
   "language": "python",
   "name": "python3"
  },
  "language_info": {
   "codemirror_mode": {
    "name": "ipython",
    "version": 3
   },
   "file_extension": ".py",
   "mimetype": "text/x-python",
   "name": "python",
   "nbconvert_exporter": "python",
   "pygments_lexer": "ipython3",
   "version": "3.11.3"
  },
  "orig_nbformat": 4
 },
 "nbformat": 4,
 "nbformat_minor": 2
}
