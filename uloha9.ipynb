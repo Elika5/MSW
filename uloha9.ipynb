{
 "cells": [
  {
   "cell_type": "code",
   "execution_count": 133,
   "metadata": {},
   "outputs": [],
   "source": [
    "import numpy as np\n",
    "from scipy import integrate\n",
    "import sympy"
   ]
  },
  {
   "cell_type": "code",
   "execution_count": 134,
   "metadata": {},
   "outputs": [],
   "source": [
    "#funkce\n",
    "polynom = lambda x:3*x**2-5*x+2 #-1,0\n",
    "harmonic = lambda x:2*np.sin(2*x)+x #0,2\n",
    "logaritmus = lambda x:np.log2(2*x+3) #-1,1\n",
    "\n",
    "harmonic2 = lambda x: 2*sympy.sin(2*x)+x\n",
    "logaritmus2 = lambda x: sympy.log(2*x+3,2)"
   ]
  },
  {
   "cell_type": "code",
   "execution_count": 135,
   "metadata": {},
   "outputs": [],
   "source": [
    "#výpočet určitého integrálu - funkce\n",
    "def trapezoid(funkce,a,b):\n",
    "    dx = 0.1\n",
    "    x = np.arange(a, b+dx, dx)\n",
    "    y = funkce(x)\n",
    "    vysledek = integrate.trapezoid(y,x)\n",
    "    return vysledek\n",
    "\n",
    "def simpson(funkce,a,b):\n",
    "    dx = 0.1\n",
    "    x = np.arange(a, b+dx, dx)\n",
    "    y = funkce(x)\n",
    "    vysledek = integrate.simpson(y,x)\n",
    "    return vysledek\n",
    "\n",
    "def romberg(funkce,a,b):\n",
    "    return integrate.romberg(funkce, a, b)"
   ]
  },
  {
   "cell_type": "code",
   "execution_count": 136,
   "metadata": {},
   "outputs": [],
   "source": [
    "#analytické řešení\n",
    "x = sympy.Symbol(\"x\")\n",
    "def analyt(funkce,a,b):\n",
    "    fce = sympy.integrate(funkce(x))\n",
    "    vysledek = fce.subs(x,b)-fce.subs(x,a)\n",
    "    return vysledek.evalf()"
   ]
  },
  {
   "cell_type": "code",
   "execution_count": 137,
   "metadata": {},
   "outputs": [
    {
     "name": "stdout",
     "output_type": "stream",
     "text": [
      "polynomická funkce\n",
      "Analytickou metodou vyšlo 5.50000000000000\n",
      "Pomocí trapezoidu vyšlo   5.504999999999999\n",
      "Pomocí simpsona vyšlo  \t  5.5\n",
      "Pomocí romberga vyšlo  \t  5.5\n",
      "\n",
      "harmonická funkce\n",
      "Analytickou metodou vyšlo -1.91614683654714\n",
      "Pomocí trapezoidu vyšlo   -1.911423197098879\n",
      "Pomocí simpsona vyšlo  \t  -1.9161594847145391\n",
      "Pomocí romberga vyšlo  \t  -1.9161468365471455\n",
      "\n",
      "logaritmická funkce\n",
      "Analytickou metodou vyšlo 0.934748710192771\n",
      "Pomocí trapezoidu vyšlo   0.9331487675039898\n",
      "Pomocí simpsona vyšlo  \t  0.9347370145993577\n",
      "Pomocí romberga vyšlo  \t  0.9347487101926043\n"
     ]
    }
   ],
   "source": [
    "print(\"polynomická funkce\")\n",
    "print(f\"Analytickou metodou vyšlo {analyt(polynom,-1,0)}\")\n",
    "print(f\"Pomocí trapezoidu vyšlo   {trapezoid(polynom,-1,0)}\")\n",
    "print(f\"Pomocí simpsona vyšlo  \\t  {simpson(polynom,-1,0)}\")\n",
    "print(f\"Pomocí romberga vyšlo  \\t  {romberg(polynom,-1,0)}\")\n",
    "\n",
    "print(\"\\nharmonická funkce\")\n",
    "print(f\"Analytickou metodou vyšlo {analyt(harmonic2,-1,0)}\")\n",
    "print(f\"Pomocí trapezoidu vyšlo   {trapezoid(harmonic,-1,0)}\")\n",
    "print(f\"Pomocí simpsona vyšlo  \\t  {simpson(harmonic,-1,0)}\")\n",
    "print(f\"Pomocí romberga vyšlo  \\t  {romberg(harmonic,-1,0)}\")\n",
    "\n",
    "print(\"\\nlogaritmická funkce\")\n",
    "print(f\"Analytickou metodou vyšlo {analyt(logaritmus2,-1,0)}\")\n",
    "print(f\"Pomocí trapezoidu vyšlo   {trapezoid(logaritmus,-1,0)}\")\n",
    "print(f\"Pomocí simpsona vyšlo  \\t  {simpson(logaritmus,-1,0)}\")\n",
    "print(f\"Pomocí romberga vyšlo  \\t  {romberg(logaritmus,-1,0)}\")"
   ]
  },
  {
   "attachments": {},
   "cell_type": "markdown",
   "metadata": {},
   "source": [
    "Z výsledků můžeme vidět, že nejméně přesná metoda se s použitím trapezoidu.\n",
    "U polynomické funkce můžeme vidět, že simpson a romberg vyšly stejně, jako analytické řešení, pomocí trapezoidu to vyšlo lehce nepřesně.\n",
    "U harmonické funkce je nejblíže k analytické metodě romberg, pak simpson a nejméně přesné je přes trapezoid.\n",
    "A podobné je to i logaritmické funkce."
   ]
  }
 ],
 "metadata": {
  "kernelspec": {
   "display_name": "Python 3",
   "language": "python",
   "name": "python3"
  },
  "language_info": {
   "codemirror_mode": {
    "name": "ipython",
    "version": 3
   },
   "file_extension": ".py",
   "mimetype": "text/x-python",
   "name": "python",
   "nbconvert_exporter": "python",
   "pygments_lexer": "ipython3",
   "version": "3.11.3"
  },
  "orig_nbformat": 4
 },
 "nbformat": 4,
 "nbformat_minor": 2
}
